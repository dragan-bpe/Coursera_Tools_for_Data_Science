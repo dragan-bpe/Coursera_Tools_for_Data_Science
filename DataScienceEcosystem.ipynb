{
 "cells": [
  {
   "cell_type": "markdown",
   "id": "601a36d7-2b75-41e7-b64b-fa26aac334a5",
   "metadata": {
    "tags": []
   },
   "source": [
    "# Data Science Tools and Ecosystem"
   ]
  },
  {
   "cell_type": "markdown",
   "id": "51c2ad80-d56a-4f28-bf71-43664e8f9ca5",
   "metadata": {},
   "source": [
    "In this notebook, Data Science Tools and Ecosystem are summarized."
   ]
  },
  {
   "cell_type": "markdown",
   "id": "8c01d5c4-27b6-4358-b763-b82cc91960f7",
   "metadata": {
    "tags": []
   },
   "source": [
    "**Objectives:** List popular languages for Data Science\n",
    "\n",
    "- Python\n",
    "- C++\n",
    "- R\n"
   ]
  },
  {
   "cell_type": "markdown",
   "id": "11be6c5d-bf11-4cd0-a145-92e1d55ad297",
   "metadata": {},
   "source": [
    "Some of the popular languages that Data Scientists use are:\n",
    "1. Python\n",
    "2. Java\n",
    "3. C\n",
    "4. C++"
   ]
  },
  {
   "cell_type": "markdown",
   "id": "56689186-614f-453c-9bd5-99ca0b3dc691",
   "metadata": {},
   "source": [
    "Some of the commonly used libraries used by Data Scientists include:\n",
    "1. Pandas\n",
    "2. Numpy\n",
    "3. Matplotlib\n",
    "4. Seaborn\n",
    "5. Keras\n",
    "6. TensorFlow\n",
    "7. PyTorch\n",
    "8. Vegas\n",
    "9. Ggplot2"
   ]
  },
  {
   "cell_type": "markdown",
   "id": "47786dfe-c177-43fd-8753-41630f4cf5fd",
   "metadata": {},
   "source": [
    "| Data Science Tools |\n",
    "| ------ |\n",
    "| Anaconda |\n",
    "| Jupyter Notebook |\n",
    "| R Studio |\n",
    "| Zeppelin |"
   ]
  },
  {
   "cell_type": "markdown",
   "id": "cb18cc8c-2882-450a-b0fb-5541b2a06541",
   "metadata": {},
   "source": [
    "### Below are a few examples of evaluating arithmetic expressions in Python"
   ]
  },
  {
   "cell_type": "code",
   "execution_count": 4,
   "id": "229f800d-ebfa-4f04-ba65-fc0fb03be23a",
   "metadata": {
    "tags": []
   },
   "outputs": [
    {
     "data": {
      "text/plain": [
       "17"
      ]
     },
     "execution_count": 4,
     "metadata": {},
     "output_type": "execute_result"
    }
   ],
   "source": [
    "# This is a simple arithmetic expression to multiply then add integers.\n",
    "(3*4)+5"
   ]
  },
  {
   "cell_type": "code",
   "execution_count": 6,
   "id": "441c9fc2-bb94-47e5-b41c-c312c490144b",
   "metadata": {},
   "outputs": [
    {
     "data": {
      "text/plain": [
       "33.333333333333336"
      ]
     },
     "execution_count": 6,
     "metadata": {},
     "output_type": "execute_result"
    }
   ],
   "source": [
    "# This will convert 200 minutes to hours by diving by 60\n",
    "200/6"
   ]
  },
  {
   "cell_type": "markdown",
   "id": "28bb042a-7109-4438-a403-135e1d17b1d1",
   "metadata": {},
   "source": [
    "## Author\n",
    "\n",
    "Dragan Stojanovic\n"
   ]
  },
  {
   "cell_type": "code",
   "execution_count": null,
   "id": "fdae6fc9-720f-4043-8e10-5bbba431657f",
   "metadata": {},
   "outputs": [],
   "source": []
  }
 ],
 "metadata": {
  "kernelspec": {
   "display_name": "Python",
   "language": "python",
   "name": "conda-env-python-py"
  },
  "language_info": {
   "codemirror_mode": {
    "name": "ipython",
    "version": 3
   },
   "file_extension": ".py",
   "mimetype": "text/x-python",
   "name": "python",
   "nbconvert_exporter": "python",
   "pygments_lexer": "ipython3",
   "version": "3.7.12"
  }
 },
 "nbformat": 4,
 "nbformat_minor": 5
}
